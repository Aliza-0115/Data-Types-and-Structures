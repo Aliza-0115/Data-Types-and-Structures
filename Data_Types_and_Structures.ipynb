{
  "nbformat": 4,
  "nbformat_minor": 0,
  "metadata": {
    "colab": {
      "provenance": []
    },
    "kernelspec": {
      "name": "python3",
      "display_name": "Python 3"
    },
    "language_info": {
      "name": "python"
    }
  },
  "cells": [
    {
      "cell_type": "code",
      "execution_count": null,
      "metadata": {
        "id": "SKUkKE68d_mU"
      },
      "outputs": [],
      "source": [
        "Data Types and Structures:-\n"
      ]
    },
    {
      "cell_type": "code",
      "source": [
        "1. What are data structures, and why are they important?\n",
        "\n",
        "ans- Data structures is a organizing and storing data in a computer so that it can be accessed and modified efficiently.\n",
        "\n",
        "Importance of Data Structures:\n",
        "\n",
        "1. Efficiency: Choosing the right data structure can significantly impact the performance of an algorithm.\n",
        "2. Organization: Data structures help organize complex data in a logical and manageable way, making it easier to work.\n",
        "3. Reusability: Many data structures are standard and well-understood, allowing developers to reuse implementations and knowledge across different projects.\n",
        "4. Solving Complex Problems: Many real-world problems require the use of specific data structures for efficient solutions\n",
        " (e.g., using a graph to represent social networks or a tree to represent file systems).\n",
        "\n"
      ],
      "metadata": {
        "id": "73Zt_FjEeMro"
      },
      "execution_count": null,
      "outputs": []
    },
    {
      "cell_type": "code",
      "source": [
        "2. Explain the difference between mutable and immutable data types with examples?\n",
        "\n",
        "ans- mutable - Mutable objects can be modified after creation,Mutability affects how objects are stored and manipulated in memory, impact in performance, memory usage, and concurrency in Python programs. mutable objects are lists and dictionaries\n",
        "\n",
        "immutable- immutable objects cannot be modified after creation such as tuples and strings.\n",
        "\n"
      ],
      "metadata": {
        "id": "LC9PlWvnhSyo"
      },
      "execution_count": null,
      "outputs": []
    },
    {
      "cell_type": "code",
      "source": [
        "3. What are the main differences between lists and tuples in Python?\n",
        "\n",
        "ans- Lists are mutable,their elements can be changed, added, or removed after creation.\n",
        " eg- [2,4,6,8,10]\n",
        "\n",
        "Tuples are immutable, once created, their elements cannot be changed.\n",
        "eg- (2,4,6,8,10)\n",
        "\n"
      ],
      "metadata": {
        "id": "d5b35DJUiesh"
      },
      "execution_count": null,
      "outputs": []
    },
    {
      "cell_type": "code",
      "source": [
        "4. Describe how dictionaries store data?\n",
        "\n",
        "ans- Dictionaries store data as key-value pairs. Each key is associated with a specific value, allowing for efficient retrieval of data based on the key."
      ],
      "metadata": {
        "id": "HIRztZUmjUe3"
      },
      "execution_count": null,
      "outputs": []
    },
    {
      "cell_type": "markdown",
      "source": [
        "5.Why might you use a set instead of a list in Python?\n",
        "\n",
        "ans- You might use a set instead of a list because for several reason.\n",
        "\n",
        "*   Finding the unique elements in a collection.\n",
        "*   Checking for the presence of an item quickly.\n",
        "*   Performing set operations (finding common elements, elements in one set but not another, etc.).\n",
        "\n",
        "\n"
      ],
      "metadata": {
        "id": "eqWq_Ayt6y_h"
      }
    },
    {
      "cell_type": "code",
      "metadata": {
        "id": "3578faf1"
      },
      "source": [
        "6. What is a string in Python, and how is it different from a list?\n",
        "\n",
        "A string in Python is a sequence of characters, used to represent text.\n",
        "Strings are immutable, meaning their contents cannot be changed after they are created.\n",
        "\n",
        "A list in Python is a mutable, ordered collection of items. Lists can contain elements of different data types.\n"
      ],
      "execution_count": null,
      "outputs": []
    },
    {
      "cell_type": "code",
      "metadata": {
        "id": "df6c2e67"
      },
      "source": [
        "7. How do tuples ensure data integrity in Python?\n",
        "\n",
        "Tuples ensure data integrity in Python primarily through their immutability.\n",
        "\n",
        "1. Preventing Unintended Modifications: Once a tuple is created, its elements cannot be changed, added, or removed.\n",
        "\n",
        "2. Thread Safety: Immutability makes tuples inherently thread-safe. In multi-threaded environments, multiple threads can access a tuple simultaneously without the risk\n",
        "of one thread modifying it while another is reading it, which could lead to data corruption.\n",
        "\n",
        "3. Use as Dictionary Keys:  tuples are immutable they can be used as keys in dictionaries. This allows you to create complex keys that represent relationships between data,\n",
        " while ensuring that the key itself remains constant.\n",
        "\n",
        "4. Returning Multiple Values from Functions: Tuples are often used to return multiple values from a function. Since the returned tuple is immutable,\n",
        " the caller can be confident that the returned values will not be altered by other parts of the program.\n",
        "\n",
        "5. Representing Fixed Data Structures: Tuples are suitable for representing data structures where the elements are meant to be constant.\n",
        "\n",
        "\n"
      ],
      "execution_count": null,
      "outputs": []
    },
    {
      "cell_type": "markdown",
      "source": [
        "8.  What is a hash table, and how does it relate to dictionaries in Python?\n",
        "\n",
        "ans- Hash table is also known as a dictionary is a data structure that implements an associative array, which is a collection of (key, value) pairs. It uses a hash function to compute an index into an array of buckets or slots, from which the desired value can be found.\n",
        "\n",
        "it relates to dictionaries in Python:\n",
        "\n",
        "Implementation: Python dictionaries are implemented using hash tables.\n",
        "\n",
        "1.Key-Value Pairs: Dictionaries store data as key-value pairs, just like hash tables.\n",
        "\n",
        "2.Hashing:When you add a key-value pair to a dictionary, Python's internal hash function calculates a hash value for the key. This hash value is then used to determine where in the underlying array the key-value pair will be stored.\n",
        "\n",
        "3.Efficient Lookups: The primary advantage of using a hash table is that it allows for very efficient average-case time complexity for operations like insertion, deletion, and lookup (retrieving a value based on its key). This is because the hash function quickly directs the search to the correct location in the array.\n",
        "\n",
        "4.Collision Handling: Hash tables need to handle collisions, which occur when two different keys hash to the same index. Python's dictionary implementation uses techniques (like open addressing or separate chaining) to resolve these collisions.\n",
        "\n",
        "5.Mutable vs. Immutable Keys:Because dictionaries rely on hashing, the keys used in a dictionary must be hashable. In Python, immutable data types (like strings, numbers, and tuples containing only immutable types) are hashable, while mutable data types (like lists and dictionaries) are not. This is why you cannot use a list as a key in a dictionary."
      ],
      "metadata": {
        "id": "xgyYzw8Ll2Y9"
      }
    },
    {
      "cell_type": "markdown",
      "metadata": {
        "id": "aa9e5cbb"
      },
      "source": [
        "9. Can lists contain different data types in Python?\n",
        "\n",
        "Yes, lists in Python can contain elements of different data types. This is one of the key features of Python lists, making them very flexible.\n",
        "\n",
        "For example, a single list can contain integers, floats, strings, booleans, and even other lists or dictionaries:"
      ]
    },
    {
      "cell_type": "code",
      "metadata": {
        "id": "11ea4233"
      },
      "source": [
        "10. Explain why strings are immutable in Python?\n",
        "\n",
        "ans- Strings are immutable in Python, meaning that once a string is created, its content cannot be changed. Any operation that appears to modify a string,\n",
        "such as concatenation or replacement, actually creates a new string with the desired changes. The original string remains unchanged in memory.\n"
      ],
      "execution_count": null,
      "outputs": []
    },
    {
      "cell_type": "markdown",
      "source": [
        "11. What advantages do dictionaries offer over lists for certain tasks?\n",
        "\n",
        "ans-  Dictionaries offer several advantages over lists for certain tasks they are:-\n",
        "\n",
        "1.Efficient Lookups\n",
        "\n",
        "2.Associative Arrays\n",
        "\n",
        "3.Meaningful Access\n",
        "\n",
        "4.No Order Guarantee\n",
        "\n",
        "5.Flexible Keys"
      ],
      "metadata": {
        "id": "qfkkWkLomIqr"
      }
    },
    {
      "cell_type": "markdown",
      "metadata": {
        "id": "c13827c8"
      },
      "source": [
        "12. Describe a scenario where using a tuple would be preferable over a list?\n",
        "\n",
        "ans- A scenario where using a tuple would be preferable over a list is when you have a collection of items that should not change. Tuples are immutable, meaning their elements cannot be modified after creation. This immutability provides several advantages in certain situations:\n",
        "\n"
      ]
    },
    {
      "cell_type": "markdown",
      "metadata": {
        "id": "32786608"
      },
      "source": [
        "13. How do sets handle duplicate values in Python?\n",
        "\n",
        "ans- Sets in Python are designed to store only unique elements. When you add elements to a set, any duplicate values are automatically discarded.\n",
        "\n",
        "It works like:-\n",
        "\n",
        "1. Automatic Removal\n",
        "\n",
        "2. Adding Duplicates\n",
        "\n",
        "3. Finding Unique Elements\n",
        "\n",
        "4. Membership Testing\n",
        "\n",
        "5. Set Operations"
      ]
    },
    {
      "cell_type": "markdown",
      "source": [
        "14. How does the “in” keyword work differently for lists and dictionaries?\n",
        "\n",
        "ans- The `in` keyword in Python is used for membership testing, checking if an element exists within a collection. However, it behaves differently when used with lists compared to dictionaries.\n",
        "\n",
        "For Lists:\n",
        "\n",
        "When the `in` keyword is used with a list, it checks if the specified element is present as one of the *values* in the list. Python iterates through the elements of the list one by one and compares each element to the value.\n",
        "\n",
        "For Dictionaries:\n",
        "\n",
        "When the `in` keyword is used with a dictionary, it primarily checks for the presence of a key.\n",
        "\n",
        "It does NOT directly check for the presence of a value.\n",
        "To check for a value, you would need to iterate through the dictionary's values or use the `.values()` method.\n",
        "\n",
        "\n"
      ],
      "metadata": {
        "id": "dETW54hxpUSH"
      }
    },
    {
      "cell_type": "markdown",
      "source": [
        "15. Can you modify the elements of a tuple? Explain why or why not?\n",
        "\n",
        "ans-"
      ],
      "metadata": {
        "id": "OL2DVRyVqgAH"
      }
    },
    {
      "cell_type": "markdown",
      "metadata": {
        "id": "00eb937d"
      },
      "source": [
        "15. Can you modify the elements of a tuple? Explain why or why not?\n",
        "\n",
        "ans- No, you cannot modify the elements of a tuple after it has been created in Python. This is because tuples are \"immutable\" data types.\n",
        "\n"
      ]
    },
    {
      "cell_type": "markdown",
      "source": [
        "16.  What is a nested dictionary, and give an example of its use case?\n",
        "\n",
        "ans-"
      ],
      "metadata": {
        "id": "hinQiJHvrVWK"
      }
    },
    {
      "cell_type": "markdown",
      "metadata": {
        "id": "a44bb4a5"
      },
      "source": [
        "16. What is a nested dictionary, and give an example of its use case?\n",
        "\n",
        "ans- A **nested dictionary** is a dictionary where one or more of its values are themselves dictionaries. This allows you to create hierarchical data structures, representing relationships and organizing data in a more complex way than a simple key-value mapping.\n",
        "\n",
        "Example Use Case: Representing a Database of Students and their Courses\n",
        "\n",
        "A common use case for nested dictionaries is to represent structured data, such as a simple database or a configuration file. For instance, you could use a nested dictionary to store information about students and the courses they are enrolled in:\n",
        "\n",
        "In this example:\n",
        "\n",
        "*   The outer dictionary keys ('student1', 'student2') represent individual students.\n",
        "*   The values associated with these student keys are nested dictionaries.\n",
        "*   The nested dictionaries contain information about each student, such as 'name' and 'courses'.\n",
        "*   The 'courses' key within the nested dictionary has a list of strings as its value, representing the courses the student is taking.\n",
        "\n",
        "This structure allows you to easily access specific information, such as the courses taken by 'student1': `students['student1']['courses']`.\n",
        "\n",
        "Nested dictionaries are useful for representing data that has a natural hierarchy or when you need to group related pieces of information under a common key."
      ]
    },
    {
      "cell_type": "markdown",
      "source": [
        "17.  Describe the time complexity of accessing elements in a dictionary?\n",
        "\n",
        "ans- Accessing an element in a dictionary typically exhibits an average time complexity of O(1), or constant time. This means that, on average, the time required to retrieve a value associated with a given key does not significantly increase with the size of the dictionary."
      ],
      "metadata": {
        "id": "NapaarzHr1sE"
      }
    },
    {
      "cell_type": "markdown",
      "source": [
        "18.  In what situations are lists preferred over dictionaries?\n",
        "\n",
        "ans- Lists are generally preferred over dictionaries when the order of elements is important, when you need to access elements by their position (index), or when you need to perform operations like sorting, reversing, or iterating through the elements in a specific sequence. Dictionaries, on the other hand, are better suited for situations where you need to quickly look up values based on unique keys, or when you need to represent a collection of data with key-value pairs."
      ],
      "metadata": {
        "id": "u2RC5Ii5sbU-"
      }
    },
    {
      "cell_type": "markdown",
      "source": [
        "19. Why are dictionaries considered unordered, and how does that affect data retrieval?\n",
        "\n",
        "ans- Dictionaries are considered unordered because they don't store items in a specific sequence based on insertion order or any other predefined order. Instead, they are optimized for fast key-based lookups. This means you can't rely on the order in which you added items to a dictionary when retrieving them, but you can quickly access a value using its corresponding key."
      ],
      "metadata": {
        "id": "SISVwCbnsmSo"
      }
    },
    {
      "cell_type": "markdown",
      "source": [
        "20.  Explain the difference between a list and a dictionary in terms of data retrieval?\n",
        "\n",
        "ans-  Lists and Dictionaries in Python are inbuilt data structures that are used to store data. Lists are linear in nature whereas dictionaries stored the data in key-value pairs.\n",
        "\n",
        "Lists, like arrays, store data in a sequential, ordered manner, accessed by numerical indices (starting from 0).\n",
        "\n",
        "Dictionaries, on the other hand, are unordered collections of key-value pairs, accessed using their unique keys, which can be of various immutable data types (like strings, numbers, or tuples)."
      ],
      "metadata": {
        "id": "p5-BCvjJs9SR"
      }
    },
    {
      "cell_type": "markdown",
      "source": [
        "PRATICAL QUESTIONS:-"
      ],
      "metadata": {
        "id": "BkFUAMJ1tpJx"
      }
    },
    {
      "cell_type": "markdown",
      "source": [
        "1.  Write a code to create a string with your name and print it?\n",
        "\n"
      ],
      "metadata": {
        "id": "JwnQpq3XtunK"
      }
    },
    {
      "cell_type": "code",
      "source": [
        "my_name = \"simran aliza\"\n",
        "print(my_name)"
      ],
      "metadata": {
        "colab": {
          "base_uri": "https://localhost:8080/"
        },
        "id": "J7cP_FrruCQO",
        "outputId": "bbfe6872-18db-490b-868e-d88cc6db94fe"
      },
      "execution_count": null,
      "outputs": [
        {
          "output_type": "stream",
          "name": "stdout",
          "text": [
            "simran aliza\n"
          ]
        }
      ]
    },
    {
      "cell_type": "markdown",
      "source": [
        "2. Write a code to find the length of the string \"Hello World\"."
      ],
      "metadata": {
        "id": "wC17L2g6uEGM"
      }
    },
    {
      "cell_type": "code",
      "source": [
        "string = \"Hello World\"\n",
        "string_length = len(string)\n",
        "print(string_length)"
      ],
      "metadata": {
        "colab": {
          "base_uri": "https://localhost:8080/"
        },
        "id": "IqDj9vMHuNJW",
        "outputId": "b2024ba1-139c-423e-8138-d7d4b548584a"
      },
      "execution_count": null,
      "outputs": [
        {
          "output_type": "stream",
          "name": "stdout",
          "text": [
            "11\n"
          ]
        }
      ]
    },
    {
      "cell_type": "markdown",
      "source": [
        "3.  Write a code to slice the first 3 characters from the string \"Python Programming."
      ],
      "metadata": {
        "id": "aFZuGPc_ucHp"
      }
    },
    {
      "cell_type": "code",
      "source": [
        "string = \"pwskills\"\n",
        "sliced_string = string[:3]\n",
        "print(sliced_string)\n"
      ],
      "metadata": {
        "colab": {
          "base_uri": "https://localhost:8080/"
        },
        "id": "D4hu0uYMugZz",
        "outputId": "e054e6f1-8138-43e2-aec0-55dfc0b74057"
      },
      "execution_count": null,
      "outputs": [
        {
          "output_type": "stream",
          "name": "stdout",
          "text": [
            "pws\n"
          ]
        }
      ]
    },
    {
      "cell_type": "markdown",
      "source": [
        "4.  Write a code to convert the string \"hello\" to uppercase."
      ],
      "metadata": {
        "id": "hwz5lSmuvCI-"
      }
    },
    {
      "cell_type": "code",
      "source": [
        "string = \"hello\"\n",
        "uppercase_string = string.upper()\n",
        "print(uppercase_string)"
      ],
      "metadata": {
        "colab": {
          "base_uri": "https://localhost:8080/"
        },
        "id": "vyJu4CuGvGqd",
        "outputId": "3bb147d1-980b-4a65-cbcf-882b52180019"
      },
      "execution_count": null,
      "outputs": [
        {
          "output_type": "stream",
          "name": "stdout",
          "text": [
            "HELLO\n"
          ]
        }
      ]
    },
    {
      "cell_type": "markdown",
      "source": [
        "5.  Write a code to replace the word \"apple\" with \"orange\" in the string \"I like apple."
      ],
      "metadata": {
        "id": "H13Yv8iJvSAL"
      }
    },
    {
      "cell_type": "code",
      "source": [
        "string = \"I like to eat apple\"\n",
        "new_string = string.replace(\"apple\", \"orange\")\n",
        "print(new_string)\n",
        "\n"
      ],
      "metadata": {
        "colab": {
          "base_uri": "https://localhost:8080/"
        },
        "id": "jrKTJy2tvU8l",
        "outputId": "b2ce6d14-c683-4e05-b543-c9b6e12211ff"
      },
      "execution_count": null,
      "outputs": [
        {
          "output_type": "stream",
          "name": "stdout",
          "text": [
            "I like to eat orange\n"
          ]
        }
      ]
    },
    {
      "cell_type": "markdown",
      "source": [
        "6.  Write a code to create a list with numbers 1 to 5 and print it"
      ],
      "metadata": {
        "id": "Nzi_uHlkvh2G"
      }
    },
    {
      "cell_type": "code",
      "metadata": {
        "colab": {
          "base_uri": "https://localhost:8080/"
        },
        "id": "c7288f54",
        "outputId": "2b981100-a4e4-406f-f21c-51c8aadf665a"
      },
      "source": [
        "my_list = [1, 2, 3, 4, 5]\n",
        "print(my_list)"
      ],
      "execution_count": null,
      "outputs": [
        {
          "output_type": "stream",
          "name": "stdout",
          "text": [
            "[1, 2, 3, 4, 5]\n"
          ]
        }
      ]
    },
    {
      "cell_type": "markdown",
      "source": [
        "7. Write a code to append the number 10 to the list [1, 2, 3, 4]"
      ],
      "metadata": {
        "id": "6Is0YLv2v4no"
      }
    },
    {
      "cell_type": "code",
      "source": [
        "my_list = [1, 2, 3, 4]\n",
        "my_list.append(10)\n",
        "print(my_list)"
      ],
      "metadata": {
        "colab": {
          "base_uri": "https://localhost:8080/"
        },
        "id": "uaps_ZXXv8sH",
        "outputId": "0b13bd40-7ad3-477a-d652-e065754281f9"
      },
      "execution_count": null,
      "outputs": [
        {
          "output_type": "stream",
          "name": "stdout",
          "text": [
            "[1, 2, 3, 4, 10]\n"
          ]
        }
      ]
    },
    {
      "cell_type": "markdown",
      "source": [
        "8.  Write a code to remove the number 3 from the list [1, 2, 3, 4, 5]"
      ],
      "metadata": {
        "id": "AoPbnyykwEVF"
      }
    },
    {
      "cell_type": "code",
      "source": [
        "my_list = [1, 2, 3, 4, 5]\n",
        "my_list.remove(3)\n",
        "\n",
        "print(my_list)"
      ],
      "metadata": {
        "colab": {
          "base_uri": "https://localhost:8080/"
        },
        "id": "c-l67iP7wGq6",
        "outputId": "24cf75c8-1db1-49a7-eeac-21e20cc370ee"
      },
      "execution_count": null,
      "outputs": [
        {
          "output_type": "stream",
          "name": "stdout",
          "text": [
            "[1, 2, 4, 5]\n"
          ]
        }
      ]
    },
    {
      "cell_type": "markdown",
      "source": [
        "9. Write a code to access the second element in the list ['a', 'b', 'c', 'd']"
      ],
      "metadata": {
        "id": "ERkYPxyNwNSR"
      }
    },
    {
      "cell_type": "code",
      "source": [
        "my_list = ['a', 'b', 'c', 'd']\n",
        "second_element = my_list[1]\n",
        "\n",
        "print(second_element)"
      ],
      "metadata": {
        "colab": {
          "base_uri": "https://localhost:8080/"
        },
        "id": "NRUbCmTnwRGq",
        "outputId": "78c823df-e4ff-49cf-dc20-4180d923110f"
      },
      "execution_count": null,
      "outputs": [
        {
          "output_type": "stream",
          "name": "stdout",
          "text": [
            "b\n"
          ]
        }
      ]
    },
    {
      "cell_type": "markdown",
      "source": [
        "10. Write a code to reverse the list [10, 20, 30, 40, 50]"
      ],
      "metadata": {
        "id": "la762zJ4waCm"
      }
    },
    {
      "cell_type": "code",
      "source": [
        "my_list = [10, 20, 30, 40, 50]\n",
        "my_list.reverse()\n",
        "\n",
        "print(my_list)"
      ],
      "metadata": {
        "colab": {
          "base_uri": "https://localhost:8080/"
        },
        "id": "y0blI59OwcZ0",
        "outputId": "b2dcfef8-4f19-4f5c-e310-3d903d54930c"
      },
      "execution_count": null,
      "outputs": [
        {
          "output_type": "stream",
          "name": "stdout",
          "text": [
            "[50, 40, 30, 20, 10]\n"
          ]
        }
      ]
    },
    {
      "cell_type": "markdown",
      "source": [
        "11. . Write a code to create a tuple with the elements 100, 200, 300 and print it"
      ],
      "metadata": {
        "id": "Fw9mWzozwoR9"
      }
    },
    {
      "cell_type": "code",
      "source": [
        "my_tuple = (100, 200, 300)\n",
        "\n",
        "print(my_tuple)"
      ],
      "metadata": {
        "colab": {
          "base_uri": "https://localhost:8080/"
        },
        "id": "BqKy3Ph4wrDE",
        "outputId": "58fd2484-d42d-4b31-a617-b7c458c3f118"
      },
      "execution_count": null,
      "outputs": [
        {
          "output_type": "stream",
          "name": "stdout",
          "text": [
            "(100, 200, 300)\n"
          ]
        }
      ]
    },
    {
      "cell_type": "markdown",
      "source": [
        "12. Write a code to access the second-to-last element of the tuple ('red', 'green', 'blue', 'yellow')"
      ],
      "metadata": {
        "id": "x9EyvLdCwzN4"
      }
    },
    {
      "cell_type": "code",
      "source": [
        "my_tuple = ('red', 'green', 'blue', 'yellow')\n",
        "second_to_last_element = my_tuple[-2]\n",
        "\n",
        "print(second_to_last_element)"
      ],
      "metadata": {
        "colab": {
          "base_uri": "https://localhost:8080/"
        },
        "id": "hRh2NVAqw17s",
        "outputId": "bddeea2c-13dd-4491-bc00-212c2b984e7f"
      },
      "execution_count": null,
      "outputs": [
        {
          "output_type": "stream",
          "name": "stdout",
          "text": [
            "blue\n"
          ]
        }
      ]
    },
    {
      "cell_type": "markdown",
      "source": [
        "13. Write a code to find the minimum number in the tuple (10, 20, 5, 15)"
      ],
      "metadata": {
        "id": "wo0bko92w9zS"
      }
    },
    {
      "cell_type": "code",
      "source": [
        "my_tuple = (10, 20, 5, 15)\n",
        "minimum_number = min(my_tuple)\n",
        "\n",
        "print(minimum_number)"
      ],
      "metadata": {
        "colab": {
          "base_uri": "https://localhost:8080/"
        },
        "id": "22ri4OB6xAck",
        "outputId": "ee398a66-6e22-4608-a34f-51f5c3bffd67"
      },
      "execution_count": null,
      "outputs": [
        {
          "output_type": "stream",
          "name": "stdout",
          "text": [
            "5\n"
          ]
        }
      ]
    },
    {
      "cell_type": "markdown",
      "source": [
        "14.  Write a code to find the index of the element \"cat\" in the tuple ('dog', 'cat', 'rabbit')"
      ],
      "metadata": {
        "id": "jW8X4iOqxGYo"
      }
    },
    {
      "cell_type": "code",
      "source": [
        "my_tuple = ('dog', 'cat', 'rabbit')\n",
        "index_of_cat = my_tuple.index('cat')\n",
        "\n",
        "print(index_of_cat)"
      ],
      "metadata": {
        "colab": {
          "base_uri": "https://localhost:8080/"
        },
        "id": "6U8_GH0DxI8x",
        "outputId": "4d944780-bf9a-41cb-8524-4d68589509ba"
      },
      "execution_count": null,
      "outputs": [
        {
          "output_type": "stream",
          "name": "stdout",
          "text": [
            "1\n"
          ]
        }
      ]
    },
    {
      "cell_type": "markdown",
      "source": [
        "15. Write a code to create a tuple containing three different fruits and check if \"kiwi\" is in it"
      ],
      "metadata": {
        "id": "L42ukfF6xOha"
      }
    },
    {
      "cell_type": "code",
      "source": [
        "fruit_tuple = ('apple', 'banana', 'orange')\n",
        "is_kiwi_in_tuple = \"kiwi\" in fruit_tuple\n",
        "\n",
        "print(f\"Is 'kiwi' in the tuple? {is_kiwi_in_tuple}\")"
      ],
      "metadata": {
        "colab": {
          "base_uri": "https://localhost:8080/"
        },
        "id": "d3F6_VChxbS2",
        "outputId": "4caad2e3-5cec-4ecd-cd67-3657e6560071"
      },
      "execution_count": null,
      "outputs": [
        {
          "output_type": "stream",
          "name": "stdout",
          "text": [
            "Is 'kiwi' in the tuple? False\n"
          ]
        }
      ]
    },
    {
      "cell_type": "markdown",
      "source": [
        "16. Write a code to create a set with the elements 'a', 'b', 'c' and print it."
      ],
      "metadata": {
        "id": "OP4dN7uUJaw1"
      }
    },
    {
      "cell_type": "code",
      "source": [
        "my_set = {'a', 'b', 'c'}\n",
        "print(my_set)"
      ],
      "metadata": {
        "colab": {
          "base_uri": "https://localhost:8080/"
        },
        "id": "Odt2qZp6JqZH",
        "outputId": "a72a7110-1dad-4fb3-8a08-049e5c8bf492"
      },
      "execution_count": 1,
      "outputs": [
        {
          "output_type": "stream",
          "name": "stdout",
          "text": [
            "{'b', 'a', 'c'}\n"
          ]
        }
      ]
    },
    {
      "cell_type": "markdown",
      "source": [
        "17. Write a code to clear all elements from the set {1, 2, 3, 4, 5}."
      ],
      "metadata": {
        "id": "oZSNG1fpJ5OI"
      }
    },
    {
      "cell_type": "code",
      "source": [
        "my_set = {1, 2, 3, 4, 5}\n",
        "my_set.clear()\n",
        "print(my_set)"
      ],
      "metadata": {
        "colab": {
          "base_uri": "https://localhost:8080/"
        },
        "id": "Z8cw99w5J-ts",
        "outputId": "faaac34c-7586-4301-dcc0-001bccdf0d03"
      },
      "execution_count": 2,
      "outputs": [
        {
          "output_type": "stream",
          "name": "stdout",
          "text": [
            "set()\n"
          ]
        }
      ]
    },
    {
      "cell_type": "markdown",
      "source": [
        "18.  Write a code to remove the element 4 from the set {1, 2, 3, 4}."
      ],
      "metadata": {
        "id": "pKXcfGw3KFe3"
      }
    },
    {
      "cell_type": "code",
      "source": [
        "my_set = {1, 2, 3, 4}\n",
        "my_set.remove(4)\n",
        "\n",
        "print(my_set)"
      ],
      "metadata": {
        "colab": {
          "base_uri": "https://localhost:8080/"
        },
        "id": "YGi1RBagKIiv",
        "outputId": "8c9189d8-1c06-4891-8102-d0bc392a49da"
      },
      "execution_count": 3,
      "outputs": [
        {
          "output_type": "stream",
          "name": "stdout",
          "text": [
            "{1, 2, 3}\n"
          ]
        }
      ]
    },
    {
      "cell_type": "markdown",
      "source": [
        "19. Write a code to find the union of two sets {1, 2, 3} and {3, 4, 5}"
      ],
      "metadata": {
        "id": "Tn1bwat0KNzb"
      }
    },
    {
      "cell_type": "code",
      "source": [
        "set1 = {1, 2, 3}\n",
        "set2 = {3, 4, 5}\n",
        "union_set = set1.union(set2)\n",
        "print(union_set)"
      ],
      "metadata": {
        "colab": {
          "base_uri": "https://localhost:8080/"
        },
        "id": "7665WjJuKRGt",
        "outputId": "8be90d43-eb41-4aad-e8a6-ce84d8f98168"
      },
      "execution_count": 4,
      "outputs": [
        {
          "output_type": "stream",
          "name": "stdout",
          "text": [
            "{1, 2, 3, 4, 5}\n"
          ]
        }
      ]
    },
    {
      "cell_type": "markdown",
      "source": [
        "20. Write a code to find the intersection of two sets {1, 2, 3} and {2, 3, 4}"
      ],
      "metadata": {
        "id": "__ouSN--KXvZ"
      }
    },
    {
      "cell_type": "code",
      "source": [
        "set1 = {1, 2, 3}\n",
        "set2 = {2, 3, 4}\n",
        "intersection_set = set1.intersection(set2)\n",
        "print(intersection_set)"
      ],
      "metadata": {
        "colab": {
          "base_uri": "https://localhost:8080/"
        },
        "id": "d4rBxBNzKZ_a",
        "outputId": "22861c82-cd6f-41b2-a97f-6dfa35ebd458"
      },
      "execution_count": 5,
      "outputs": [
        {
          "output_type": "stream",
          "name": "stdout",
          "text": [
            "{2, 3}\n"
          ]
        }
      ]
    },
    {
      "cell_type": "markdown",
      "source": [
        "21. Write a code to create a dictionary with the keys \"name\", \"age\", and \"city\", and print it."
      ],
      "metadata": {
        "id": "fyBb-CAIKfNg"
      }
    },
    {
      "cell_type": "code",
      "source": [
        "my_dict = {\n",
        "    \"name\": \"Your Name\",\n",
        "    \"age\": 30,\n",
        "    \"city\": \"Your City\"\n",
        "}\n",
        "print(my_dict)"
      ],
      "metadata": {
        "colab": {
          "base_uri": "https://localhost:8080/"
        },
        "id": "JAxMuypSKh0t",
        "outputId": "e6f5f382-2bc4-45c0-f284-0ae0a392162c"
      },
      "execution_count": 6,
      "outputs": [
        {
          "output_type": "stream",
          "name": "stdout",
          "text": [
            "{'name': 'Your Name', 'age': 30, 'city': 'Your City'}\n"
          ]
        }
      ]
    },
    {
      "cell_type": "markdown",
      "source": [
        "22.  Write a code to add a new key-value pair \"country\": \"USA\" to the dictionary {'name': 'John', 'age': 25}"
      ],
      "metadata": {
        "id": "ef8QHnMEKmoA"
      }
    },
    {
      "cell_type": "code",
      "source": [
        "my_dict = {'name': 'John', 'age': 25}\n",
        "my_dict[\"country\"] = \"USA\"\n",
        "print(my_dict)"
      ],
      "metadata": {
        "colab": {
          "base_uri": "https://localhost:8080/"
        },
        "id": "-6oZ6oQBKo-t",
        "outputId": "03b474df-aa92-4184-c72b-7004fd651ce1"
      },
      "execution_count": 7,
      "outputs": [
        {
          "output_type": "stream",
          "name": "stdout",
          "text": [
            "{'name': 'John', 'age': 25, 'country': 'USA'}\n"
          ]
        }
      ]
    },
    {
      "cell_type": "markdown",
      "source": [
        "23.  Write a code to access the value associated with the key \"name\" in the dictionary {'name': 'Alice', 'age': 30}"
      ],
      "metadata": {
        "id": "1NXsQKetKthn"
      }
    },
    {
      "cell_type": "code",
      "source": [
        "my_dict = {'name': 'Alice', 'age': 30}\n",
        "name_value = my_dict[\"name\"]\n",
        "print(name_value)"
      ],
      "metadata": {
        "colab": {
          "base_uri": "https://localhost:8080/"
        },
        "id": "TKt0VXo0KviS",
        "outputId": "cbede075-53b6-412b-de18-e697b8202926"
      },
      "execution_count": 8,
      "outputs": [
        {
          "output_type": "stream",
          "name": "stdout",
          "text": [
            "Alice\n"
          ]
        }
      ]
    },
    {
      "cell_type": "markdown",
      "source": [
        "24. Write a code to remove the key \"age\" from the dictionary {'name': 'Bob', 'age': 22, 'city': 'New York'}"
      ],
      "metadata": {
        "id": "uilNTveQK24t"
      }
    },
    {
      "cell_type": "code",
      "source": [
        "my_dict = {'name': 'Bob', 'age': 22, 'city': 'New York'}\n",
        "del my_dict[\"age\"]\n",
        "print(my_dict)"
      ],
      "metadata": {
        "colab": {
          "base_uri": "https://localhost:8080/"
        },
        "id": "nW1HvwcwK66o",
        "outputId": "60fd6114-5bd8-49fc-bdff-cda506b8dd45"
      },
      "execution_count": 9,
      "outputs": [
        {
          "output_type": "stream",
          "name": "stdout",
          "text": [
            "{'name': 'Bob', 'city': 'New York'}\n"
          ]
        }
      ]
    },
    {
      "cell_type": "markdown",
      "source": [
        "25. Write a code to check if the key \"city\" exists in the dictionary {'name': 'Alice', 'city': 'Paris'}"
      ],
      "metadata": {
        "id": "5L6ArisFK_cY"
      }
    },
    {
      "cell_type": "code",
      "source": [
        "my_dict = {'name': 'Alice', 'city': 'Paris'}\n",
        "key_exists = \"city\" in my_dict\n",
        "print(key_exists)"
      ],
      "metadata": {
        "colab": {
          "base_uri": "https://localhost:8080/"
        },
        "id": "qDYjLhXzLCEV",
        "outputId": "74add187-b35c-426c-a709-ccde06037265"
      },
      "execution_count": 10,
      "outputs": [
        {
          "output_type": "stream",
          "name": "stdout",
          "text": [
            "True\n"
          ]
        }
      ]
    },
    {
      "cell_type": "markdown",
      "source": [
        "26. Write a code to create a list, a tuple, and a dictionary, and print them all."
      ],
      "metadata": {
        "id": "Nua--r9YLGG3"
      }
    },
    {
      "cell_type": "code",
      "source": [
        "list = [1, 2, 3]\n",
        "tuple = (4, 5, 6)\n",
        "dict = {\"a\": 7, \"b\": 8}\n",
        "\n",
        "print(list)\n",
        "print(tuple)\n",
        "print(dict)"
      ],
      "metadata": {
        "colab": {
          "base_uri": "https://localhost:8080/"
        },
        "id": "j1xhR_taLJzO",
        "outputId": "f9663ea3-be4d-43c4-836c-c19c77c5bd22"
      },
      "execution_count": 11,
      "outputs": [
        {
          "output_type": "stream",
          "name": "stdout",
          "text": [
            "[1, 2, 3]\n",
            "(4, 5, 6)\n",
            "{'a': 7, 'b': 8}\n"
          ]
        }
      ]
    },
    {
      "cell_type": "markdown",
      "source": [
        "27. Write a code to create a list of 5 random numbers between 1 and 100, sort it in ascending order, and print the result.(replaced)"
      ],
      "metadata": {
        "id": "hIsHxi9pLSBO"
      }
    },
    {
      "cell_type": "code",
      "source": [
        "import random\n",
        "\n",
        "random_numbers = [random.randint(1, 100) for _ in range(5)]\n",
        "random_numbers.sort()\n",
        "print(random_numbers)"
      ],
      "metadata": {
        "colab": {
          "base_uri": "https://localhost:8080/"
        },
        "id": "S8PFXCTwLmOH",
        "outputId": "ec770b29-b62e-4f24-886b-851235802601"
      },
      "execution_count": 12,
      "outputs": [
        {
          "output_type": "stream",
          "name": "stdout",
          "text": [
            "[36, 49, 53, 54, 88]\n"
          ]
        }
      ]
    },
    {
      "cell_type": "markdown",
      "source": [
        "28.  Write a code to create a list with strings and print the element at the third index."
      ],
      "metadata": {
        "id": "_leBL7vuLt4D"
      }
    },
    {
      "cell_type": "code",
      "source": [
        "my_list = [\"apple\", \"banana\", \"cherry\", \"date\", \"elderberry\"]\n",
        "print(my_list[3])"
      ],
      "metadata": {
        "colab": {
          "base_uri": "https://localhost:8080/"
        },
        "id": "UKkhC990LwAe",
        "outputId": "1d04edfe-4705-4ee2-f72d-5c77fe26a74c"
      },
      "execution_count": 13,
      "outputs": [
        {
          "output_type": "stream",
          "name": "stdout",
          "text": [
            "date\n"
          ]
        }
      ]
    },
    {
      "cell_type": "markdown",
      "source": [
        "29.  Write a code to combine two dictionaries into one and print the result"
      ],
      "metadata": {
        "id": "I9qkrnyLL0xE"
      }
    },
    {
      "cell_type": "code",
      "source": [
        "dict1 = {\"a\": 1, \"b\": 2}\n",
        "dict2 = {\"c\": 3, \"d\": 4}\n",
        "\n",
        "combined_dict = {**dict1, **dict2}\n",
        "print(combined_dict)"
      ],
      "metadata": {
        "colab": {
          "base_uri": "https://localhost:8080/"
        },
        "id": "HFX8p81JMFrx",
        "outputId": "5d6df73c-fd6e-406a-9c06-36993e35cfb7"
      },
      "execution_count": 17,
      "outputs": [
        {
          "output_type": "stream",
          "name": "stdout",
          "text": [
            "{'a': 1, 'b': 2, 'c': 3, 'd': 4}\n"
          ]
        }
      ]
    },
    {
      "cell_type": "markdown",
      "source": [
        "30.  Write a code to convert a list of strings into a set."
      ],
      "metadata": {
        "id": "8xqyh-YFMQwF"
      }
    },
    {
      "cell_type": "code",
      "source": [
        "my_list = [\"apple\", \"banana\", \"cherry\", \"apple\", \"date\"]\n",
        "my_set = set(my_list)\n",
        "print(my_set)"
      ],
      "metadata": {
        "colab": {
          "base_uri": "https://localhost:8080/"
        },
        "id": "vyG3E-0hMSxG",
        "outputId": "b7ba7496-c393-4ad2-e631-f4c40d350400"
      },
      "execution_count": 16,
      "outputs": [
        {
          "output_type": "stream",
          "name": "stdout",
          "text": [
            "{'cherry', 'banana', 'date', 'apple'}\n"
          ]
        }
      ]
    }
  ]
}